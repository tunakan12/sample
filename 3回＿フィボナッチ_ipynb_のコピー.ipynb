{
  "nbformat": 4,
  "nbformat_minor": 0,
  "metadata": {
    "colab": {
      "provenance": [],
      "collapsed_sections": [
        "D-xPSGT4NCb0",
        "RFugS6MiuelM",
        "C7eeTNA8ukh8",
        "DUzHbPJ5uWRY",
        "qWNMBk-rC3Rt",
        "dJ4OeytMDD8u",
        "9YawVJc9Ah80",
        "DGpaoDt6vpCZ",
        "-4UAmYJmw0mQ",
        "cxnjP0Uyv4nD",
        "lo-0V0uPoT1y",
        "fG9Rj30GCLYA",
        "rOKtRpFHC-Z-",
        "8B7nO564DYx-",
        "gfoO2gmiDhOO",
        "JeSTVfHyv9iU"
      ],
      "include_colab_link": true
    },
    "kernelspec": {
      "name": "python3",
      "display_name": "Python 3"
    },
    "language_info": {
      "name": "python"
    }
  },
  "cells": [
    {
      "cell_type": "markdown",
      "metadata": {
        "id": "view-in-github",
        "colab_type": "text"
      },
      "source": [
        "<a href=\"https://colab.research.google.com/github/tunakan12/sample/blob/main/cDA03_%E6%BC%94%E7%BF%92%E8%AA%B2%E9%A1%8C_J122170_%E5%B3%B6%E5%B4%8E%E8%A3%95%E4%B9%9F_ipynb_%E3%81%AE%E3%82%B3%E3%83%94%E3%83%BC.ipynb\" target=\"_parent\"><img src=\"https://colab.research.google.com/assets/colab-badge.svg\" alt=\"Open In Colab\"/></a>"
      ]
    },
    {
      "cell_type": "markdown",
      "source": [
        "#**課題１**"
      ],
      "metadata": {
        "id": "D-xPSGT4NCb0"
      }
    },
    {
      "cell_type": "markdown",
      "source": [
        "関数f3(n)がある．ただし，ｎは０以上の整数とする．\n",
        "この関数f3(n)をColaboratory上に作成せよ．f3(30)の値を求めよ．\n",
        "f3(n)=f3(n-1)+f3(n-2)+f3(n-3) (n>=3)\n",
        "ただし，f3(0)=0, f3(1)=1, f3(2)=2とする．"
      ],
      "metadata": {
        "id": "3R-ppHwhuXsU"
      }
    },
    {
      "cell_type": "markdown",
      "source": [
        "##プログラム"
      ],
      "metadata": {
        "id": "RFugS6MiuelM"
      }
    },
    {
      "cell_type": "code",
      "source": [
        "%%file recursion.c\n",
        "#include <stdio.h>\n",
        "#include <stdlib.h>\n",
        "\n",
        "long f3(int n){\n",
        "//\n",
        "// 再帰関数 f3の作成\n",
        "//\n",
        "}\n",
        "\n",
        "int main(){\n",
        "    int n;\n",
        "//\n",
        "//必要な変数宣言の追加\n",
        "//\n",
        "    scanf(\"%d\",&n); // nの入力\n",
        "//\n",
        "// f3の読み出しと結果の出力の作成\n",
        "//\n",
        "    return 0;\n",
        "}"
      ],
      "metadata": {
        "id": "xs6sxPNPvoWr",
        "colab": {
          "base_uri": "https://localhost:8080/"
        },
        "outputId": "647f4671-a2bd-43f2-d814-dd4304c38bd7"
      },
      "execution_count": 1,
      "outputs": [
        {
          "output_type": "stream",
          "name": "stdout",
          "text": [
            "Writing recursion.c\n"
          ]
        }
      ]
    },
    {
      "cell_type": "markdown",
      "source": [
        "##実行，結果"
      ],
      "metadata": {
        "id": "C7eeTNA8ukh8"
      }
    },
    {
      "cell_type": "code",
      "source": [
        "!gcc recursion.c -o recursion\n",
        "!echo \"30\"|./recursion"
      ],
      "metadata": {
        "id": "UDXlq7Zr09Ww"
      },
      "execution_count": 2,
      "outputs": []
    },
    {
      "cell_type": "markdown",
      "source": [
        "#**アッカーマン関数**"
      ],
      "metadata": {
        "id": "DUzHbPJ5uWRY"
      }
    },
    {
      "cell_type": "markdown",
      "source": [
        "アッカーマン関数とは，非負整数 m と n に対し，\n",
        "$$A(m,n)=\\begin{cases}n+1,&{\\text{ if }}m=0\\\\A(m-1,1),&{\\text{ if }}n=0\\\\A(m-1,A(m,n-1)),&{\\text{ otherwise}}\\\\\\end{cases}$$\n",
        "で定義される関数のことである"
      ],
      "metadata": {
        "id": "TNNoP92mCyk-"
      }
    },
    {
      "cell_type": "markdown",
      "source": [
        "##アッカーマン関数のメインプログラム（完成版）"
      ],
      "metadata": {
        "id": "qWNMBk-rC3Rt"
      }
    },
    {
      "cell_type": "code",
      "source": [
        "%%file ackermann.c\n",
        "#include <stdio.h>\n",
        "#include <stdlib.h>\n",
        "#include <string.h>\n",
        "\n",
        "long count = 0;\n",
        "\n",
        "// 途中経過表示しない版\n",
        "long ackermann(long m, long n) {\n",
        "    long r;\n",
        "    count++;\n",
        "    if (m == 0) {\n",
        "        r = n+1;\n",
        "    } else if (n == 0) {\n",
        "        r = ackermann(m-1, 1);\n",
        "    } else {\n",
        "        r = ackermann(m-1, ackermann(m, n-1));\n",
        "    }\n",
        "    return r;\n",
        "}\n",
        "\n",
        "// 途中経過表示する版\n",
        "long ackermann_v(long m, long n, char *header, char *footer) {\n",
        "    long r;\n",
        "    count++;\n",
        "    if (m == 0) {\n",
        "        r = n+1;\n",
        "        if (strlen(header) == 0) {\n",
        "            printf(\"=%ld\", r);\n",
        "        }\n",
        "    } else if (n == 0) {\n",
        "        printf(\"\\n=%sA(%ld,1)%s\", header, m-1, footer);\n",
        "        r = ackermann_v(m-1, 1, header, footer);\n",
        "    } else {\n",
        "        char new_header[50];\n",
        "        char new_footer[50];\n",
        "        sprintf(new_header, \"%sA(%ld,\", header, m-1);\n",
        "        sprintf(new_footer, \")%s\", footer);\n",
        "        r = ackermann_v(m, n-1, new_header, new_footer);\n",
        "        printf(\"\\n=%sA(%ld,%ld)%s\", header, m-1, r, footer);\n",
        "        r = ackermann_v(m-1, r, header, footer);\n",
        "    }\n",
        "    return r;\n",
        "}\n",
        "\n",
        "int main(void) {\n",
        "    long m, n;\n",
        "    int v;\n",
        "\n",
        "    count = 0;\n",
        "    (void)scanf(\"%ld\", &m);\n",
        "    (void)scanf(\"%ld\", &n);\n",
        "    (void)scanf(\"%d\", &v);\n",
        "\n",
        "    printf(\"A(%ld,%ld)\", m, n);\n",
        "    long result;\n",
        "    if (v) {\n",
        "        result = ackermann_v(m, n, \"\", \"\");\n",
        "    } else {\n",
        "        result = ackermann(m, n);\n",
        "    }\n",
        "    printf(\"\\n**result** A(%ld,%ld) = %ld,  \", m, n, result);\n",
        "    printf(\"count = %ld\\n\", count);\n",
        "\n",
        "    return 0;\n",
        "}"
      ],
      "metadata": {
        "id": "Iz_ITcgNC8gR",
        "colab": {
          "base_uri": "https://localhost:8080/"
        },
        "outputId": "fdf6a13c-c315-4222-bcd7-c73dd620b02a"
      },
      "execution_count": 3,
      "outputs": [
        {
          "output_type": "stream",
          "name": "stdout",
          "text": [
            "Writing ackermann.c\n"
          ]
        }
      ]
    },
    {
      "cell_type": "markdown",
      "source": [
        "##コンパイル\n"
      ],
      "metadata": {
        "id": "dJ4OeytMDD8u"
      }
    },
    {
      "cell_type": "code",
      "source": [
        "!gcc -o ackermann ackermann.c"
      ],
      "metadata": {
        "id": "Aq1x9q6rvmNn"
      },
      "execution_count": 4,
      "outputs": []
    },
    {
      "cell_type": "markdown",
      "source": [
        "##実行例\n",
        "\n",
        "標準入力より3つの整数を引数として受け取る。\n",
        "\n",
        "第1引数: m\n",
        "\n",
        "第2引数: n\n",
        "\n",
        "第3引数: 0 だと途中経過を表示しない、0以外だと途中経過を表示する\n",
        "\n"
      ],
      "metadata": {
        "id": "9YawVJc9Ah80"
      }
    },
    {
      "cell_type": "code",
      "source": [
        "!echo 1 1 1 | ./ackermann"
      ],
      "metadata": {
        "id": "JERotF-TAnz5",
        "colab": {
          "base_uri": "https://localhost:8080/"
        },
        "outputId": "1696ba6d-a585-488f-d511-9a8740643c1e"
      },
      "execution_count": 5,
      "outputs": [
        {
          "output_type": "stream",
          "name": "stdout",
          "text": [
            "A(1,1)\n",
            "=A(0,A(0,1))\n",
            "=A(0,2)=3\n",
            "**result** A(1,1) = 3,  count = 4\n"
          ]
        }
      ]
    },
    {
      "cell_type": "code",
      "source": [
        "!echo 1 1 0 | ./ackermann"
      ],
      "metadata": {
        "id": "1vvBJ4QzBYJW",
        "colab": {
          "base_uri": "https://localhost:8080/"
        },
        "outputId": "76e9b31b-aea4-4f98-927a-8f9e85c56533"
      },
      "execution_count": 6,
      "outputs": [
        {
          "output_type": "stream",
          "name": "stdout",
          "text": [
            "A(1,1)\n",
            "**result** A(1,1) = 3,  count = 4\n"
          ]
        }
      ]
    },
    {
      "cell_type": "markdown",
      "source": [
        "#**課題2**\n"
      ],
      "metadata": {
        "id": "DGpaoDt6vpCZ"
      }
    },
    {
      "cell_type": "markdown",
      "source": [
        "A(1,2), A(2,1) について、それぞれどのように関数が再帰的に呼び出されているかを例に倣って実行して示せ．また，各々の値を求めよ。"
      ],
      "metadata": {
        "id": "iNHzKYK6wu3G"
      }
    },
    {
      "cell_type": "markdown",
      "source": [
        "##実行"
      ],
      "metadata": {
        "id": "-4UAmYJmw0mQ"
      }
    },
    {
      "cell_type": "code",
      "source": [
        "!echo x x x | ./ackermann"
      ],
      "metadata": {
        "id": "jYBbuEUpDDc1",
        "colab": {
          "base_uri": "https://localhost:8080/"
        },
        "outputId": "b9ba8a27-a7a0-4bb8-8bbf-f9c6e303cf91"
      },
      "execution_count": 7,
      "outputs": [
        {
          "output_type": "stream",
          "name": "stdout",
          "text": [
            "A(0,0)\n",
            "**result** A(0,0) = 1,  count = 1\n"
          ]
        }
      ]
    },
    {
      "cell_type": "code",
      "source": [
        "!echo x x x | ./ackermann"
      ],
      "metadata": {
        "id": "HdUmkqKCxIOD",
        "colab": {
          "base_uri": "https://localhost:8080/"
        },
        "outputId": "1c6381b7-8a08-4383-d55a-05b2493ddf48"
      },
      "execution_count": 8,
      "outputs": [
        {
          "output_type": "stream",
          "name": "stdout",
          "text": [
            "A(0,0)\n",
            "**result** A(0,0) = 1,  count = 1\n"
          ]
        }
      ]
    },
    {
      "cell_type": "markdown",
      "source": [
        "#**発展課題（アッカーマン関数 続き）**\n",
        "\n"
      ],
      "metadata": {
        "id": "cxnjP0Uyv4nD"
      }
    },
    {
      "cell_type": "markdown",
      "source": [
        "##**発展課題１**"
      ],
      "metadata": {
        "id": "lo-0V0uPoT1y"
      }
    },
    {
      "cell_type": "markdown",
      "source": [
        "A(0, n), A(1, n), A(2, n), A(3, n) の一般項を求めよ"
      ],
      "metadata": {
        "id": "VXiy61ihxVLY"
      }
    },
    {
      "cell_type": "markdown",
      "source": [
        "###**(課題1a)**"
      ],
      "metadata": {
        "id": "fG9Rj30GCLYA"
      }
    },
    {
      "cell_type": "markdown",
      "source": [
        "A(m,n)について、m=0, n=0,1,2,3,4,5...として関数を実行し，A(0, n)の一般項を求めよ"
      ],
      "metadata": {
        "id": "XR5WSIYfxeGF"
      }
    },
    {
      "cell_type": "code",
      "source": [
        "!echo x x x | ./ackermann"
      ],
      "metadata": {
        "id": "R7zXkyEbDSgA",
        "colab": {
          "base_uri": "https://localhost:8080/"
        },
        "outputId": "b4ce2c3b-91c1-4edf-d701-2cfc3bdfec72"
      },
      "execution_count": 9,
      "outputs": [
        {
          "output_type": "stream",
          "name": "stdout",
          "text": [
            "A(0,0)\n",
            "**result** A(0,0) = 1,  count = 1\n"
          ]
        }
      ]
    },
    {
      "cell_type": "markdown",
      "source": [
        "###**(課題1b)**"
      ],
      "metadata": {
        "id": "rOKtRpFHC-Z-"
      }
    },
    {
      "cell_type": "markdown",
      "source": [
        "A(m,n)について、m=1, n=0,1,2,3,4,5...として関数を実行し，A(1, n)の一般項を求めよ"
      ],
      "metadata": {
        "id": "65NqeSkpxsmF"
      }
    },
    {
      "cell_type": "code",
      "source": [
        "!echo x x x | ./ackermann"
      ],
      "metadata": {
        "id": "iiQQkRVerlS6",
        "colab": {
          "base_uri": "https://localhost:8080/"
        },
        "outputId": "a6833edc-6119-45d0-a606-3fa92164b480"
      },
      "execution_count": 10,
      "outputs": [
        {
          "output_type": "stream",
          "name": "stdout",
          "text": [
            "A(0,0)\n",
            "**result** A(0,0) = 1,  count = 1\n"
          ]
        }
      ]
    },
    {
      "cell_type": "markdown",
      "source": [
        "###**(課題1c)**"
      ],
      "metadata": {
        "id": "8B7nO564DYx-"
      }
    },
    {
      "cell_type": "markdown",
      "source": [
        "A(m,n)について、m=2, n=0,1,2,3,4,5...として関数を実行し，A(2, n)の一般項を求めよ"
      ],
      "metadata": {
        "id": "TI9Zoctqxz17"
      }
    },
    {
      "cell_type": "code",
      "source": [
        "!echo x x x | ./ackermann"
      ],
      "metadata": {
        "id": "PmgwqR0Prs5O",
        "colab": {
          "base_uri": "https://localhost:8080/"
        },
        "outputId": "dad1991c-2977-445f-85e2-0c598afc7bb0"
      },
      "execution_count": 11,
      "outputs": [
        {
          "output_type": "stream",
          "name": "stdout",
          "text": [
            "A(0,0)\n",
            "**result** A(0,0) = 1,  count = 1\n"
          ]
        }
      ]
    },
    {
      "cell_type": "markdown",
      "source": [
        "###**(課題1d)**"
      ],
      "metadata": {
        "id": "gfoO2gmiDhOO"
      }
    },
    {
      "cell_type": "markdown",
      "source": [
        "A(m,n)について、m=3, n=0,1,2,3,4,5...として関数を実行し，A(3, n)の一般項を求めよ"
      ],
      "metadata": {
        "id": "jlSxllJTx59q"
      }
    },
    {
      "cell_type": "code",
      "source": [
        "!echo x x x | ./ackermann"
      ],
      "metadata": {
        "id": "KzZ5T_VHrw4a",
        "colab": {
          "base_uri": "https://localhost:8080/"
        },
        "outputId": "a3692279-a01a-42c7-a434-2cf4be450ed4"
      },
      "execution_count": 12,
      "outputs": [
        {
          "output_type": "stream",
          "name": "stdout",
          "text": [
            "A(0,0)\n",
            "**result** A(0,0) = 1,  count = 1\n"
          ]
        }
      ]
    },
    {
      "cell_type": "markdown",
      "source": [
        "##**発展課題２**"
      ],
      "metadata": {
        "id": "JeSTVfHyv9iU"
      }
    },
    {
      "cell_type": "markdown",
      "source": [
        "A(4, 0), A(4, 1), A(4, 2) について実行し、\n",
        "A(4, 0), A(4, 1) について、値が急激に変化することを確認せよ。\n",
        "また A(4, 2) がエラーになることを確認せよ。"
      ],
      "metadata": {
        "id": "bjkpWkw5yEVz"
      }
    },
    {
      "cell_type": "code",
      "source": [
        "!echo x x x | ./ackermann"
      ],
      "metadata": {
        "id": "rCIImeMsr1nU",
        "colab": {
          "base_uri": "https://localhost:8080/"
        },
        "outputId": "a0da5086-0550-46c9-c5f7-c5c34cd7571b"
      },
      "execution_count": 13,
      "outputs": [
        {
          "output_type": "stream",
          "name": "stdout",
          "text": [
            "A(0,0)\n",
            "**result** A(0,0) = 1,  count = 1\n"
          ]
        }
      ]
    }
  ]
}
